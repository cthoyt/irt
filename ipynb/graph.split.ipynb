{
 "cells": [
  {
   "cell_type": "markdown",
   "id": "relevant-committee",
   "metadata": {},
   "source": [
    "# Create an Open-World Split\n",
    "\n",
    "This notebook details how dataset splits can be created using the\n",
    "example of IRT-CDE. The algorithm to determine *concept entities* and\n",
    "the subsequent selection of *open-world* entities is described in\n",
    "Section 3 of the paper. An implementation of that algorithm can be\n",
    "found in `irt/graph/split.py:Splitter.create`. We first create a\n",
    "`split.Dataset` and then, adding textual information, a\n",
    "`text.Dataset`. These both then form an IRT dataset.\n",
    "\n",
    "First, a knowledge graph needs to be loaded. We use CoDEx and the\n",
    "loader defined in `irt/graph/loader.py`. Each loader function returns\n",
    "a `irt.graph.GraphImport` instance that is used to instantiate an\n",
    "`irt.graph.Graph`.\n"
   ]
  },
  {
   "cell_type": "code",
   "execution_count": 1,
   "id": "instrumental-orchestra",
   "metadata": {},
   "outputs": [
    {
     "name": "stderr",
     "output_type": "stream",
     "text": [
      "cannot import pykeen datasets: No module named 'torch'\n",
      "cannot import pytorch datasets: No module named 'torch'\n"
     ]
    }
   ],
   "source": [
    "%load_ext autoreload\n",
    "%autoreload 2\n",
    "\n",
    "import irt\n",
    "\n",
    "name = 'irt.cde-ipynb'"
   ]
  },
  {
   "cell_type": "markdown",
   "id": "enabling-district",
   "metadata": {},
   "source": [
    "You need to have codex cloned:\n",
    "\n",
    "``` bash\n",
    "mkdir lib\n",
    "git clone https://github.com/tsafavi/codex lib/codex\n",
    "```"
   ]
  },
  {
   "cell_type": "code",
   "execution_count": 2,
   "id": "finished-resident",
   "metadata": {},
   "outputs": [],
   "source": [
    "# create a graph import\n",
    "\n",
    "from irt.graph import loader as graph_loader\n",
    "\n",
    "data_dir = irt.ENV.LIB_DIR / 'codex/data'\n",
    "\n",
    "source = graph_loader.load_codex(\n",
    "    data_dir / 'triples/codex-m/train.txt',\n",
    "    data_dir / 'triples/codex-m/valid.txt',\n",
    "    data_dir / 'triples/codex-m/test.txt',\n",
    "    f_ent2id=data_dir / 'entities/en/entities.json',\n",
    "    f_rel2id=data_dir / 'relations/en/relations.json',\n",
    ")"
   ]
  },
  {
   "cell_type": "code",
   "execution_count": 3,
   "id": "static-centre",
   "metadata": {},
   "outputs": [
    {
     "name": "stdout",
     "output_type": "stream",
     "text": [
      "IRT graph: [irt.cde-ipynb] (17050 entities)\n",
      "IRT GRAPH: irt.cde-ipynb\n",
      "  nodes: 17050\n",
      "  edges: 206205 (51 types)\n",
      "  degree:\n",
      "    mean 24.19\n",
      "    median 13\n",
      "\n"
     ]
    }
   ],
   "source": [
    "# instantiate and persist a graph instance\n",
    "\n",
    "from irt.graph import graph\n",
    "g = graph.Graph(name=name, source=source)\n",
    "\n",
    "print(str(g))\n",
    "print(g.description)\n",
    "g.save(irt.ENV.DATASET_DIR / name / 'graph')"
   ]
  },
  {
   "cell_type": "markdown",
   "id": "vulnerable-bishop",
   "metadata": {},
   "source": [
    "## Determine the relation ratio\n",
    "\n",
    "Each relation has a ratio which we use to determine concept entities."
   ]
  },
  {
   "cell_type": "code",
   "execution_count": 4,
   "id": "retired-upset",
   "metadata": {},
   "outputs": [
    {
     "name": "stdout",
     "output_type": "stream",
     "text": [
      "got 51 relations\n",
      "first 10\n",
      "--  --  ----------  -----  ---  ------------------------------------------\n",
      " 1  11  0.00631622   9816   62  P1412:languages spoken, written, or signed\n",
      " 2  14  0.0104914    3622   38  P1303:instrument\n",
      " 3  25  0.015873     2520   40  P140:religion\n",
      " 4   3  0.0168763   13036  220  P27:country of citizenship\n",
      " 5  19  0.01983       353    7  P30:continent\n",
      " 6   8  0.0201889    3071   62  P509:cause of death\n",
      " 7   5  0.0248385    2013   50  P172:ethnic group\n",
      " 8  41  0.0263158     152    4  P2348:time period\n",
      " 9  20  0.0275862    2175   60  P102:member of political party\n",
      "10   2  0.028528    13145  375  P106:occupation\n",
      "--  --  ----------  -----  ---  ------------------------------------------\n",
      "last 10\n",
      "--  --  --------  ---  ---  -------------------------\n",
      "42  36  0.948276   55   58  P112:founded by\n",
      "43  30  0.953704  309  324  P40:child\n",
      "44  31  0.961877  328  341  P451:unmarried partner\n",
      "45   7  0.968326  214  221  P530:diplomatic relation\n",
      "46  29  0.994949  394  396  P3373:sibling\n",
      "47  33  1         804  804  P26:spouse\n",
      "48  46  1           2    2  P3095:practiced by\n",
      "49  47  1           2    2  P54:member of sports team\n",
      "50  48  1           1    1  P113:airline hub\n",
      "51  50  1           1    1  P780:symptoms\n",
      "--  --  --------  ---  ---  -------------------------\n"
     ]
    }
   ],
   "source": [
    "from irt.graph import split\n",
    "from tabulate import tabulate\n",
    "\n",
    "rels = split.Relation.from_graph(g)\n",
    "rels.sort(key=lambda rel: rel.ratio)\n",
    "\n",
    "\n",
    "def show_relations(rels, N: int = 10):\n",
    "    rows = [(i, r.r, r.ratio, len(r.hs), len(r.ts), r.name) for i, r in enumerate(rels, 1)]\n",
    "\n",
    "    print(f'first {N}')\n",
    "    print(tabulate(rows[:N]))\n",
    "    \n",
    "    print(f'last {N}')\n",
    "    print(tabulate(rows[-N:]))\n",
    "\n",
    "\n",
    "print(f'got {len(rels)} relations')\n",
    "show_relations(rels)"
   ]
  },
  {
   "cell_type": "code",
   "execution_count": 5,
   "id": "heavy-roads",
   "metadata": {},
   "outputs": [
    {
     "data": {
      "image/png": "[encoded data removed]",
      "text/plain": [
       "<Figure size 432x288 with 1 Axes>"
      ]
     },
     "metadata": {
      "needs_background": "light"
     },
     "output_type": "display_data"
    }
   ],
   "source": [
    "import matplotlib.pyplot as plt\n",
    "\n",
    "def plot_relations(g, rels):\n",
    "    fig = plt.figure()\n",
    "    ax = fig.add_subplot(111)\n",
    "\n",
    "    ax.set_title(f'Relation Distribution {name}')\n",
    "    ax.set_xlabel('Relation')\n",
    "    ax.set_ylabel('Ratio')\n",
    "\n",
    "    ax.plot(range(len(rels)), [r.ratio for r in rels], color='#333')\n",
    "\n",
    "plot_relations(g, rels)"
   ]
  },
  {
   "cell_type": "markdown",
   "id": "hybrid-authentication",
   "metadata": {},
   "source": [
    "After some examination we decide to apply a threshold at relation 27 and exclude some of the selected relations. Additional relations are not included (though this is possible and was applied for IRT-FB)."
   ]
  },
  {
   "cell_type": "code",
   "execution_count": 6,
   "id": "second-federation",
   "metadata": {},
   "outputs": [
    {
     "name": "stdout",
     "output_type": "stream",
     "text": [
      "Config:\n",
      "  seed: 30061990\n",
      "  ow split: 0.6\n",
      "  ow train split: 0.5\n",
      "  relation threshold: 27\n",
      "  git: d02cc44281b794db7cdcb04e7330c82c1451c37f\n",
      "  date: 2021-07-25 18:07:25.349620\n",
      "\n"
     ]
    }
   ],
   "source": [
    "# define the configuration\n",
    "\n",
    "cfg = split.Config(\n",
    "    # make it deterministic\n",
    "    seed=30061990,\n",
    "    # select concept entities from the first 27 relations\n",
    "    threshold=27,\n",
    "    # retain around 60% of all triples for the cw split\n",
    "    ow_split=0.6,\n",
    "    # retain around 50% of all ow triples for testing\n",
    "    ow_train_split=0.5,\n",
    "    # exclude some relations\n",
    "    excludelist=set((\n",
    "        'P551:residence',\n",
    "        'P407:language of work or name',\n",
    "        'P530:diplomatic relation',\n",
    "    )),\n",
    "    # do not include additional relations\n",
    "    includelist=set(),\n",
    ")\n",
    "\n",
    "print(cfg)"
   ]
  },
  {
   "cell_type": "code",
   "execution_count": 7,
   "id": "cultural-mineral",
   "metadata": {},
   "outputs": [],
   "source": [
    "# based on this configuration, a split is created\n",
    "\n",
    "from irt.common import helper\n",
    "helper.seed(cfg.seed)\n",
    "\n",
    "path = helper.path(irt.ENV.DATASET_DIR / name / 'split', create=True)\n",
    "splitter = split.Splitter(g=g, cfg=cfg, name=name, path=path)\n",
    "splitter.create()"
   ]
  },
  {
   "cell_type": "code",
   "execution_count": 8,
   "id": "following-rating",
   "metadata": {},
   "outputs": [
    {
     "name": "stderr",
     "output_type": "stream",
     "text": [
      "17050it [00:20, 826.34it/s]\n",
      "902 entities without context (29636/206205 triples)\n"
     ]
    }
   ],
   "source": [
    "# we have the raw data saved to an sqlite database\n",
    "# create the fitting loader and pass it to the text selector\n",
    "\n",
    "from irt.text import loader as text_loader\n",
    "\n",
    "database = irt.ENV.SRC_DIR / 'text' / 'cde' / 'contexts-v7-2020-12-31.db'\n",
    "loader = text_loader.SQLite(database=database)\n",
    "\n",
    "from irt.text import selector\n",
    "\n",
    "# this creates the text files in DATASET_DIR / <name> / text\n",
    "\n",
    "path = helper.path(irt.ENV.DATASET_DIR / name, create=True)\n",
    "selector.create(loader=loader, path=path, seed=cfg.seed, contexts=30, mask=True, mark=True)"
   ]
  },
  {
   "cell_type": "code",
   "execution_count": 9,
   "id": "mathematical-culture",
   "metadata": {},
   "outputs": [
    {
     "name": "stdout",
     "output_type": "stream",
     "text": [
      "IRT dataset:\n",
      "IRT graph: [irt.cde-ipynb] (17050 entities)\n",
      "IRT split: closed_world=135098 | open_world-valid=41237 | open_world-test=29870\n",
      "irt text: ~24.71 text contexts per entity\n"
     ]
    }
   ],
   "source": [
    "ds = irt.Dataset(irt.ENV.DATASET_DIR / name)\n",
    "print(str(ds))"
   ]
  },
  {
   "cell_type": "code",
   "execution_count": 10,
   "id": "threatened-desire",
   "metadata": {},
   "outputs": [
    {
     "name": "stdout",
     "output_type": "stream",
     "text": [
      "IRT DATASET\n",
      "\n",
      "IRT GRAPH: irt.cde-ipynb\n",
      "  nodes: 17050\n",
      "  edges: 206205 (51 types)\n",
      "  degree:\n",
      "    mean 24.19\n",
      "    median 13\n",
      "\n",
      "IRT SPLIT\n",
      "2489 retained concepts\n",
      "\n",
      "Config:\n",
      "  seed: 30061990\n",
      "  ow split: 0.6\n",
      "  ow train split: 0.5\n",
      "  relation threshold: 27\n",
      "  git: d02cc44281b794db7cdcb04e7330c82c1451c37f\n",
      "  date: 2021-07-25 18:07:54.360933\n",
      "\n",
      "Closed World - TRAIN:\n",
      "  owe: 11983\n",
      "  entities: 11983\n",
      "  heads: 10281\n",
      "  tails: 4710\n",
      "  triples: 135098\n",
      "\n",
      "Open World - VALID:\n",
      "  owe: 2978\n",
      "  entities: 7195\n",
      "  heads: 4017\n",
      "  tails: 4287\n",
      "  triples: 41237\n",
      "\n",
      "Open World - TEST:\n",
      "  owe: 2089\n",
      "  entities: 6240\n",
      "  heads: 3251\n",
      "  tails: 3880\n",
      "  triples: 29870\n",
      "\n",
      "IRT Text (Mode.CLEAN)\n",
      "  mean contexts: 24.71\n",
      "  median contexts: 30.00\n",
      "  mean mentions: 2.12\n",
      "  median mentions: 2.00\n",
      "\n"
     ]
    }
   ],
   "source": [
    "# verbose description\n",
    "print(ds.description)"
   ]
  }
 ],
 "metadata": {
  "kernelspec": {
   "display_name": "Python 3 (ipykernel)",
   "language": "python",
   "name": "python3"
  },
  "language_info": {
   "codemirror_mode": {
    "name": "ipython",
    "version": 3
   },
   "file_extension": ".py",
   "mimetype": "text/x-python",
   "name": "python",
   "nbconvert_exporter": "python",
   "pygments_lexer": "ipython3",
   "version": "3.9.5"
  },
  "name": "graph.split.ipynb"
 },
 "nbformat": 4,
 "nbformat_minor": 5
}
