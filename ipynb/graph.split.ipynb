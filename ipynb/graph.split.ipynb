{
 "cells": [
  {
   "cell_type": "markdown",
   "id": "white-dubai",
   "metadata": {
    "collapsed": false
   },
   "source": [
    "# Create an Open-World Split\n",
    "\n",
    "This notebook details how dataset splits can be created using the example of IRT-CDE. The algorithm to determine *concept entities* and the subsequent selection of *open-world* entities is described in Section 3 of the paper. An implementation of that algorithm can be found in `irt/graph/split.py:Splitter.create`. We first create a `split.Dataset` and then, adding textual information, a `text.Dataset`. These both then form an IRT dataset.\n",
    "\n",
    "First, a knowledge graph needs to be loaded. We use CoDEx and the loader defined in `irt/graph/loader.py`. Each loader function returns a `irt.graph.GraphImport` instance that is used to instantiate an `irt.graph.Graph`."
   ]
  },
  {
   "cell_type": "code",
   "execution_count": 1,
   "id": "indirect-conservation",
   "metadata": {
    "collapsed": false
   },
   "outputs": [],
   "source": [
    "%load_ext autoreload\n",
    "%autoreload 2"
   ]
  },
  {
   "cell_type": "markdown",
   "id": "burning-webcam",
   "metadata": {
    "collapsed": false
   },
   "source": [
    "You need to have codex cloned:\n",
    "\n",
    "``` bash\n",
    "mkdir -p lib\n",
    "git clone https://github.com/tsafavi/codex lib/codex\n",
    "```"
   ]
  },
  {
   "cell_type": "code",
   "execution_count": 2,
   "id": "improved-conflict",
   "metadata": {
    "collapsed": false
   },
   "outputs": [],
   "source": [
    "# create a graph import\n",
    "\n",
    "import irt\n",
    "from irt.graph import loader as graph_loader\n",
    "\n",
    "data_dir = irt.ENV.LIB_DIR / 'codex/data'\n",
    "\n",
    "source = graph_loader.load_codex(\n",
    "    data_dir / 'triples/codex-m/train.txt',\n",
    "    data_dir / 'triples/codex-m/valid.txt',\n",
    "    data_dir / 'triples/codex-m/test.txt',\n",
    "    f_ent2id=data_dir / 'entities/en/entities.json',\n",
    "    f_rel2id=data_dir / 'relations/en/relations.json',\n",
    ")"
   ]
  },
  {
   "cell_type": "code",
   "execution_count": 3,
   "id": "caroline-female",
   "metadata": {
    "collapsed": false
   },
   "outputs": [
    {
     "name": "stdout",
     "output_type": "stream",
     "text": [
      "irt graph: [irt-cde] (17050 entities)\n",
      "irt graph: irt-cde\n",
      "  nodes: 17050\n",
      "  edges: 206205 (51 types)\n",
      "  degree:\n",
      "    mean 24.19\n",
      "    median 13\n",
      "\n"
     ]
    }
   ],
   "source": [
    "# instantiate and persist a graph instance\n",
    "\n",
    "from irt.graph import graph\n",
    "g = graph.Graph(name='irt-cde', source=source)\n",
    "\n",
    "print(str(g))\n",
    "print(g.description)\n",
    "g.save(irt.ENV.DATASET_DIR / g.name / 'graph')"
   ]
  },
  {
   "cell_type": "markdown",
   "id": "julian-clearing",
   "metadata": {
    "collapsed": false
   },
   "source": [
    "## Determine the relation ratio\n",
    "\n",
    "Each relation has a ratio which we use to determine concept entities."
   ]
  },
  {
   "cell_type": "code",
   "execution_count": 4,
   "id": "authorized-crack",
   "metadata": {
    "collapsed": false
   },
   "outputs": [
    {
     "name": "stdout",
     "output_type": "stream",
     "text": [
      "got 51 relations\n",
      "first 10\n",
      "--  --  ----------  -----  ---  ------------------------------------------\n",
      " 1  11  0.00631622   9816   62  P1412:languages spoken, written, or signed\n",
      " 2  14  0.0104914    3622   38  P1303:instrument\n",
      " 3  25  0.015873     2520   40  P140:religion\n",
      " 4   3  0.0168763   13036  220  P27:country of citizenship\n",
      " 5  19  0.01983       353    7  P30:continent\n",
      " 6   8  0.0201889    3071   62  P509:cause of death\n",
      " 7   5  0.0248385    2013   50  P172:ethnic group\n",
      " 8  41  0.0263158     152    4  P2348:time period\n",
      " 9  20  0.0275862    2175   60  P102:member of political party\n",
      "10   2  0.028528    13145  375  P106:occupation\n",
      "--  --  ----------  -----  ---  ------------------------------------------\n"
     ]
    }
   ],
   "source": [
    "from irt.graph import split\n",
    "from tabulate import tabulate\n",
    "\n",
    "rels = split.Relation.from_graph(g)\n",
    "rels.sort(key=lambda rel: rel.ratio)\n",
    "\n",
    "\n",
    "def show_relations(rels, N: int = 10):\n",
    "    rows = [(i, r.r, r.ratio, len(r.hs), len(r.ts), r.name) for i, r in enumerate(rels, 1)]\n",
    "\n",
    "    print(f'first {N}')\n",
    "    print(tabulate(rows[:N]))\n",
    "\n",
    "\n",
    "print(f'got {len(rels)} relations')\n",
    "show_relations(rels)"
   ]
  },
  {
   "cell_type": "code",
   "execution_count": 5,
   "id": "descending-funds",
   "metadata": {
    "collapsed": false
   },
   "outputs": [
    {
     "data": {
      "image/png": "[encoded data removed]",
      "text/plain": [
       "<Figure size 432x288 with 1 Axes>"
      ]
     },
     "metadata": {
      "needs_background": "light"
     },
     "output_type": "display_data"
    }
   ],
   "source": [
    "import matplotlib.pyplot as plt\n",
    "\n",
    "def plot_relations(g, rels):\n",
    "    fig = plt.figure()\n",
    "    ax = fig.add_subplot(111)\n",
    "\n",
    "    ax.set_title(f'Relation Distribution {g.name}')\n",
    "    ax.set_xlabel('Relation')\n",
    "    ax.set_ylabel('Ratio')\n",
    "\n",
    "    ax.plot(range(len(rels)), [r.ratio for r in rels], color='#333')\n",
    "\n",
    "plot_relations(g, rels)"
   ]
  },
  {
   "cell_type": "markdown",
   "id": "apparent-turkish",
   "metadata": {
    "collapsed": false
   },
   "source": [
    "After some examination we decide to apply a threshold at relation 27 and exclude some of the selected relations. Additional relations are not included (though this is possible and was applied for IRT-FB)."
   ]
  },
  {
   "cell_type": "code",
   "execution_count": 6,
   "id": "standard-victorian",
   "metadata": {
    "collapsed": false
   },
   "outputs": [
    {
     "name": "stdout",
     "output_type": "stream",
     "text": [
      "Config:\n",
      "  seed: 8051991\n",
      "  ow split: 0.6\n",
      "  ow train split: 0.5\n",
      "  relation threshold: 27\n",
      "  git: 83c9bbac24e4f11e9a55f28f07a52845cb1e418b\n",
      "  date: 2021-04-22 16:11:51.741211\n",
      "\n"
     ]
    }
   ],
   "source": [
    "# define the configuration\n",
    "\n",
    "cfg = split.Config(\n",
    "    # make it deterministic\n",
    "    seed=8051991,\n",
    "    # select concept entities from the first 27 relations\n",
    "    threshold=27,\n",
    "    # retain around 60% of all triples for the cw split\n",
    "    ow_split=0.6,\n",
    "    # retain around 50% of all ow triples for testing\n",
    "    ow_train_split=0.5,\n",
    "    # exclude some relations\n",
    "    excludelist=set((\n",
    "        'P551:residence',\n",
    "        'P407:language of work or name',\n",
    "        'P530:diplomatic relation',\n",
    "    )),\n",
    "    # do not include additional relations\n",
    "    includelist=set(),\n",
    ")\n",
    "\n",
    "print(cfg)"
   ]
  },
  {
   "cell_type": "code",
   "execution_count": 7,
   "id": "expired-cocktail",
   "metadata": {
    "collapsed": false
   },
   "outputs": [],
   "source": [
    "# based on this configuration, a split is created\n",
    "\n",
    "from irt.common import helper\n",
    "helper.seed(cfg.seed)\n",
    "\n",
    "path = helper.path(irt.ENV.DATASET_DIR / g.name / 'split', create=True)\n",
    "splitter = split.Splitter(g=g, cfg=cfg, name=g.name, path=path)\n",
    "splitter.create()"
   ]
  },
  {
   "cell_type": "code",
   "execution_count": 8,
   "id": "motivated-clinic",
   "metadata": {
    "collapsed": false
   },
   "outputs": [
    {
     "ename": "SyntaxError",
     "evalue": "invalid syntax (<ipython-input-8-1cca26cf17d2>, line 9)",
     "output_type": "error",
     "traceback": [
      "\u001b[0;36m  File \u001b[0;32m\"<ipython-input-8-1cca26cf17d2>\"\u001b[0;36m, line \u001b[0;32m9\u001b[0m\n\u001b[0;31m    From irt.text import selector\u001b[0m\n\u001b[0m         ^\u001b[0m\n\u001b[0;31mSyntaxError\u001b[0m\u001b[0;31m:\u001b[0m invalid syntax\n"
     ]
    }
   ],
   "source": [
    "# we have the raw data saved to an sqlite database\n",
    "# create the fitting loader and pass it to the text selector\n",
    "\n",
    "from irt.text import loader as text_loader\n",
    "\n",
    "database = irt.ENV.SRC_DIR / 'text' / 'cde' / 'contexts-v7-2020-12-31.db'\n",
    "loader = text_loader.SQLite(database=database)\n",
    "\n",
    "from irt.text import selector\n",
    "\n",
    "# this creates the text files in DATASET_DIR / <name> / text\n",
    "\n",
    "path = helper.path(irt.ENV.DATASET_DIR / g.name, create=True)\n",
    "selector.create(loader=loader, path=path, seed=cfg.seed, sentences=30, mask=True, mark=True)"
   ]
  }
 ],
 "metadata": {
  "kernelspec": {
   "argv": [
    "python",
    "-m",
    "ipykernel_launcher",
    "-f",
    "{connection_file}"
   ],
   "display_name": "Python 3",
   "env": null,
   "interrupt_mode": "signal",
   "language": "python",
   "metadata": null,
   "name": "python3"
  },
  "language_info": {
   "codemirror_mode": {
    "name": "ipython",
    "version": 3
   },
   "file_extension": ".py",
   "mimetype": "text/x-python",
   "name": "python",
   "nbconvert_exporter": "python",
   "pygments_lexer": "ipython3",
   "version": "3.9.2"
  },
  "name": "graph.split.ipynb"
 },
 "nbformat": 4,
 "nbformat_minor": 5
}
